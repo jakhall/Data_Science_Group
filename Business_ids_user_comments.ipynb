{
 "cells": [
  {
   "cell_type": "code",
   "execution_count": 1,
   "metadata": {},
   "outputs": [],
   "source": [
    "#importing json to read in data\n",
    "import json\n",
    "from pprint import pprint\n",
    "\n",
    "import pandas as pd"
   ]
  },
  {
   "cell_type": "code",
   "execution_count": 2,
   "metadata": {},
   "outputs": [],
   "source": [
    "#opening json file\n",
    "with open('yelp_academic_dataset_business.json',encoding=\"utf8\") as data_file:\n",
    "    number = next(data_file).strip()\n",
    "    data = [json.loads(line) for line in data_file]\n",
    "    "
   ]
  },
  {
   "cell_type": "code",
   "execution_count": 3,
   "metadata": {},
   "outputs": [
    {
     "name": "stdout",
     "output_type": "stream",
     "text": [
      "28865\n",
      "18233\n",
      "47098\n"
     ]
    }
   ],
   "source": [
    "#Collecting busines id for city values\n",
    "#creating lists to store each city and business id\n",
    "Las_vegas = []\n",
    "Toronto = []\n",
    "BusinessIds = []\n",
    "\n",
    "#looping to get the records for Las Vegas and Toronto cities\n",
    "for i in range(len(data)):\n",
    "    if data[i]['city'] == 'Las Vegas':\n",
    "        Las_vegas.append(i)\n",
    "        \n",
    "    if data[i]['city'] == 'Toronto':\n",
    "        Toronto.append(i) \n",
    " \n",
    "#checking length is reasonable\n",
    "print(len(Las_vegas))\n",
    "print(len(Toronto))\n",
    "\n",
    "#putting the businessids into one list\n",
    "for i in range(len(Las_vegas)):\n",
    "    BusinessIds.append(data[Las_vegas[i]]['business_id'])\n",
    "    \n",
    "for i in range(len(Toronto)):\n",
    "    BusinessIds.append(data[Toronto[i]]['business_id'])\n",
    "\n",
    "#ensuring no duplicated in list\n",
    "Filtered_Business_Ids = list(set(BusinessIds))\n",
    "\n",
    "print(len(Filtered_Business_Ids))\n",
    "\n",
    "\n",
    "\n",
    "#for i in range(len(data)):\n",
    "#    print(data[i]['city'])"
   ]
  },
  {
   "cell_type": "code",
   "execution_count": 4,
   "metadata": {},
   "outputs": [],
   "source": [
    "#output business ids into a json file\n",
    "Business_ids = []\n",
    "for i in range(len(Filtered_Business_Ids)):\n",
    "    Business_ids.append(json.dumps({'Business_id': Filtered_Business_Ids[i]}))\n",
    "\n",
    "\n",
    "with open('Business_ids.json', 'w') as outfile:\n",
    "    json.dump(BusinessIds, outfile)"
   ]
  },
  {
   "cell_type": "code",
   "execution_count": 5,
   "metadata": {},
   "outputs": [],
   "source": [
    "#checking json file\n",
    "with open('Business_ids.json') as f:\n",
    "    data2 = json.load(f)\n"
   ]
  },
  {
   "cell_type": "code",
   "execution_count": 187,
   "metadata": {},
   "outputs": [],
   "source": [
    "#beginning of Fairouz's code\n",
    "#move business ids to dataframe\n",
    "busids = pd.read_json('Business_ids.json',lines=True,orient='index')\n",
    "biz_ids = pd.DataFrame(busids)\n",
    "columns = ['business_id']\n",
    "biz_ids.columns = columns"
   ]
  },
  {
   "cell_type": "code",
   "execution_count": 8,
   "metadata": {},
   "outputs": [],
   "source": [
    "#load reviews from feathers\n",
    "import feather\n",
    "reviews1 = feather.read_dataframe('reviews1.feather')\n",
    "reviews2 = feather.read_dataframe('reviews2.feather')"
   ]
  },
  {
   "cell_type": "code",
   "execution_count": 188,
   "metadata": {},
   "outputs": [
    {
     "data": {
      "text/plain": [
       "'list1 count: '"
      ]
     },
     "metadata": {},
     "output_type": "display_data"
    },
    {
     "data": {
      "text/plain": [
       "user_id    377796\n",
       "dtype: int64"
      ]
     },
     "metadata": {},
     "output_type": "display_data"
    },
    {
     "data": {
      "text/plain": [
       "'list2 count: '"
      ]
     },
     "metadata": {},
     "output_type": "display_data"
    },
    {
     "data": {
      "text/plain": [
       "user_id    299259\n",
       "dtype: int64"
      ]
     },
     "metadata": {},
     "output_type": "display_data"
    },
    {
     "data": {
      "text/plain": [
       "'list1+2 count: '"
      ]
     },
     "metadata": {},
     "output_type": "display_data"
    },
    {
     "data": {
      "text/plain": [
       "user_id    677055\n",
       "dtype: int64"
      ]
     },
     "metadata": {},
     "output_type": "display_data"
    },
    {
     "data": {
      "text/plain": [
       "'list1+2 de-duplicated: '"
      ]
     },
     "metadata": {},
     "output_type": "display_data"
    },
    {
     "data": {
      "text/plain": [
       "user_id    676932\n",
       "dtype: int64"
      ]
     },
     "metadata": {},
     "output_type": "display_data"
    }
   ],
   "source": [
    "#select users who commented on the selected business - remove any user duplicates\n",
    "import pandas as pd\n",
    "temp_user = pd.DataFrame(columns=['user_id']) \n",
    "users_list1 = pd.DataFrame(reviews1[reviews1['business_id'].isin(biz_ids['business_id'])]['user_id'])\n",
    "users_list2 = pd.DataFrame(reviews2[reviews2['business_id'].isin(biz_ids['business_id'])]['user_id'])\n",
    "users_list1 = users_list1.drop_duplicates(subset='user_id',keep='first')\n",
    "display('list1 count: ') \n",
    "display(users_list1.count())\n",
    "users_list2 = users_list2.drop_duplicates(subset='user_id',keep='first')\n",
    "display('list2 count: ') \n",
    "display(users_list2.count())\n",
    "users_list1 = users_list1.append(users_list2)\n",
    "display('list1+2 count: ') \n",
    "display(users_list1.count())\n",
    "users_list1 = users_list1.drop_duplicates(subset='user_id',keep='first')\n",
    "display('list1+2 de-duplicated: ') \n",
    "display(users_list1.count())"
   ]
  },
  {
   "cell_type": "code",
   "execution_count": 191,
   "metadata": {},
   "outputs": [
    {
     "data": {
      "text/plain": [
       "business_id    3306523\n",
       "cool           3306523\n",
       "date           3306523\n",
       "funny          3306523\n",
       "review_id      3306523\n",
       "stars          3306523\n",
       "text           3306523\n",
       "useful         3306523\n",
       "user_id        3306523\n",
       "dtype: int64"
      ]
     },
     "execution_count": 191,
     "metadata": {},
     "output_type": "execute_result"
    }
   ],
   "source": [
    "#read comments made by users accross yelp dataset\n",
    "users_comments1 = pd.DataFrame(reviews1[reviews1['user_id'].isin(users_list1['user_id'])])\n",
    "users_comments2 = pd.DataFrame(reviews2[reviews2['user_id'].isin(users_list1['user_id'])])\n",
    "users_comments = users_comments1.append(users_comments2)\n",
    "users_comments.count()"
   ]
  },
  {
   "cell_type": "code",
   "execution_count": null,
   "metadata": {},
   "outputs": [],
   "source": [
    "#use \"user_comments\" to run the personality analysis on users "
   ]
  }
 ],
 "metadata": {
  "kernelspec": {
   "display_name": "Python 3",
   "language": "python",
   "name": "python3"
  },
  "language_info": {
   "codemirror_mode": {
    "name": "ipython",
    "version": 3
   },
   "file_extension": ".py",
   "mimetype": "text/x-python",
   "name": "python",
   "nbconvert_exporter": "python",
   "pygments_lexer": "ipython3",
   "version": "3.6.7"
  }
 },
 "nbformat": 4,
 "nbformat_minor": 2
}
