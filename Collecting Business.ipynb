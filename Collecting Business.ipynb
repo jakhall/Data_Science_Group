{
 "cells": [
  {
   "cell_type": "code",
   "execution_count": 9,
   "metadata": {},
   "outputs": [],
   "source": [
    "#importing json to read in data\n",
    "import json\n",
    "from pprint import pprint\n",
    "\n",
    "import pandas as pd"
   ]
  },
  {
   "cell_type": "code",
   "execution_count": 2,
   "metadata": {},
   "outputs": [],
   "source": [
    "#opening json file\n",
    "with open('yelp_academic_dataset_business.json',encoding=\"utf8\") as data_file:\n",
    "    number = next(data_file).strip()\n",
    "    data = [json.loads(line) for line in data_file]\n",
    "    \n",
    " \n",
    "\n",
    "    "
   ]
  },
  {
   "cell_type": "code",
   "execution_count": 5,
   "metadata": {},
   "outputs": [
    {
     "name": "stdout",
     "output_type": "stream",
     "text": [
      "28865\n",
      "18233\n",
      "47098\n"
     ]
    }
   ],
   "source": [
    "#Collecting busines id for city values\n",
    "#creating lists to store each city and business id\n",
    "Las_vegas = []\n",
    "Toronto = []\n",
    "BusinessIds = []\n",
    "\n",
    "#looping to get the records for Las Vegas and Toronto cities\n",
    "for i in range(len(data)):\n",
    "    if data[i]['city'] == 'Las Vegas':\n",
    "        Las_vegas.append(i)\n",
    "        \n",
    "    if data[i]['city'] == 'Toronto':\n",
    "        Toronto.append(i) \n",
    " \n",
    "#checking length is reasonable\n",
    "print(len(Las_vegas))\n",
    "print(len(Toronto))\n",
    "\n",
    "#putting the businessids into one list\n",
    "for i in range(len(Las_vegas)):\n",
    "    BusinessIds.append(data[Las_vegas[i]]['business_id'])\n",
    "    \n",
    "for i in range(len(Toronto)):\n",
    "    BusinessIds.append(data[Toronto[i]]['business_id'])\n",
    "\n",
    "#ensuring no duplicated in list\n",
    "Filtered_Business_Ids = list(set(BusinessIds))\n",
    "\n",
    "print(len(Filtered_Business_Ids))\n",
    "\n",
    "\n",
    "\n",
    "#for i in range(len(data)):\n",
    "#    print(data[i]['city'])"
   ]
  },
  {
   "cell_type": "code",
   "execution_count": 12,
   "metadata": {},
   "outputs": [],
   "source": [
    "#output business ids into a json file\n",
    "\n",
    "Business_ids = json.dumps({'Business_ids': Filtered_Business_Ids})\n",
    "\n",
    "with open('Business_ids.csv', 'w') as outfile:\n",
    "    json.dump(Business_ids, outfile)"
   ]
  },
  {
   "cell_type": "code",
   "execution_count": 14,
   "metadata": {},
   "outputs": [],
   "source": [
    "#checking json file\n",
    "with open('Business_ids.json') as f:\n",
    "    data2 = json.load(f)"
   ]
  },
  {
   "cell_type": "code",
   "execution_count": null,
   "metadata": {},
   "outputs": [],
   "source": []
  }
 ],
 "metadata": {
  "kernelspec": {
   "display_name": "Python 3",
   "language": "python",
   "name": "python3"
  },
  "language_info": {
   "codemirror_mode": {
    "name": "ipython",
    "version": 3
   },
   "file_extension": ".py",
   "mimetype": "text/x-python",
   "name": "python",
   "nbconvert_exporter": "python",
   "pygments_lexer": "ipython3",
   "version": "3.7.0"
  }
 },
 "nbformat": 4,
 "nbformat_minor": 2
}
