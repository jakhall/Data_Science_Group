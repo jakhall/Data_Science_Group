{
 "cells": [
  {
   "cell_type": "code",
   "execution_count": 1,
   "metadata": {},
   "outputs": [],
   "source": [
    "#importing json to read in data\n",
    "import json\n",
    "from pprint import pprint\n",
    "\n",
    "import pandas as pd"
   ]
  },
  {
   "cell_type": "code",
   "execution_count": 2,
   "metadata": {},
   "outputs": [
    {
     "ename": "FileNotFoundError",
     "evalue": "[Errno 2] No such file or directory: 'yelp_academic_dataset_business.json'",
     "output_type": "error",
     "traceback": [
      "\u001b[1;31m---------------------------------------------------------------------------\u001b[0m",
      "\u001b[1;31mFileNotFoundError\u001b[0m                         Traceback (most recent call last)",
      "\u001b[1;32m<ipython-input-2-1c0903c2301c>\u001b[0m in \u001b[0;36m<module>\u001b[1;34m()\u001b[0m\n\u001b[0;32m      1\u001b[0m \u001b[1;31m#opening json file\u001b[0m\u001b[1;33m\u001b[0m\u001b[1;33m\u001b[0m\u001b[0m\n\u001b[1;32m----> 2\u001b[1;33m \u001b[1;32mwith\u001b[0m \u001b[0mopen\u001b[0m\u001b[1;33m(\u001b[0m\u001b[1;34m'yelp_academic_dataset_business.json'\u001b[0m\u001b[1;33m,\u001b[0m\u001b[0mencoding\u001b[0m\u001b[1;33m=\u001b[0m\u001b[1;34m\"utf8\"\u001b[0m\u001b[1;33m)\u001b[0m \u001b[1;32mas\u001b[0m \u001b[0mdata_file\u001b[0m\u001b[1;33m:\u001b[0m\u001b[1;33m\u001b[0m\u001b[0m\n\u001b[0m\u001b[0;32m      3\u001b[0m     \u001b[0mnumber\u001b[0m \u001b[1;33m=\u001b[0m \u001b[0mnext\u001b[0m\u001b[1;33m(\u001b[0m\u001b[0mdata_file\u001b[0m\u001b[1;33m)\u001b[0m\u001b[1;33m.\u001b[0m\u001b[0mstrip\u001b[0m\u001b[1;33m(\u001b[0m\u001b[1;33m)\u001b[0m\u001b[1;33m\u001b[0m\u001b[0m\n\u001b[0;32m      4\u001b[0m     \u001b[0mdata\u001b[0m \u001b[1;33m=\u001b[0m \u001b[1;33m[\u001b[0m\u001b[0mjson\u001b[0m\u001b[1;33m.\u001b[0m\u001b[0mloads\u001b[0m\u001b[1;33m(\u001b[0m\u001b[0mline\u001b[0m\u001b[1;33m)\u001b[0m \u001b[1;32mfor\u001b[0m \u001b[0mline\u001b[0m \u001b[1;32min\u001b[0m \u001b[0mdata_file\u001b[0m\u001b[1;33m]\u001b[0m\u001b[1;33m\u001b[0m\u001b[0m\n\u001b[0;32m      5\u001b[0m \u001b[1;33m\u001b[0m\u001b[0m\n",
      "\u001b[1;31mFileNotFoundError\u001b[0m: [Errno 2] No such file or directory: 'yelp_academic_dataset_business.json'"
     ]
    }
   ],
   "source": [
    "#opening json file\n",
    "with open('yelp_academic_dataset_business.json',encoding=\"utf8\") as data_file:\n",
    "    number = next(data_file).strip()\n",
    "    data = [json.loads(line) for line in data_file]\n",
    "    "
   ]
  },
  {
   "cell_type": "code",
   "execution_count": 18,
   "metadata": {},
   "outputs": [
    {
     "name": "stdout",
     "output_type": "stream",
     "text": [
      "28865\n",
      "18233\n",
      "47098\n"
     ]
    }
   ],
   "source": [
    "#Collecting busines id for city values\n",
    "#creating lists to store each city and business id\n",
    "Las_vegas = []\n",
    "Toronto = []\n",
    "BusinessIds = []\n",
    "\n",
    "#looping to get the records for Las Vegas and Toronto cities\n",
    "for i in range(len(data)):\n",
    "    if data[i]['city'] == 'Las Vegas':\n",
    "        Las_vegas.append(i)\n",
    "        \n",
    "    if data[i]['city'] == 'Toronto':\n",
    "        Toronto.append(i) \n",
    " \n",
    "#checking length is reasonable\n",
    "print(len(Las_vegas))\n",
    "print(len(Toronto))\n",
    "\n",
    "#putting the businessids into one list\n",
    "for i in range(len(Las_vegas)):\n",
    "    BusinessIds.append(data[Las_vegas[i]]['business_id'])\n",
    "    \n",
    "for i in range(len(Toronto)):\n",
    "    BusinessIds.append(data[Toronto[i]]['business_id'])\n",
    "\n",
    "#ensuring no duplicated in list\n",
    "Filtered_Business_Ids = list(set(BusinessIds))\n",
    "\n",
    "print(len(Filtered_Business_Ids))\n",
    "\n",
    "\n",
    "\n",
    "#for i in range(len(data)):\n",
    "#    print(data[i]['city'])"
   ]
  },
  {
   "cell_type": "code",
   "execution_count": 39,
   "metadata": {},
   "outputs": [],
   "source": [
    "#output business ids into a json file\n",
    "Business_ids = []\n",
    "for i in range(len(Filtered_Business_Ids)):\n",
    "    Business_ids.append(json.dumps({'Business_id': Filtered_Business_Ids[i]}))\n",
    "\n",
    "\n",
    "with open('Business_ids.json', 'w') as outfile:\n",
    "    json.dump(BusinessIds, outfile)"
   ]
  },
  {
   "cell_type": "code",
   "execution_count": 40,
   "metadata": {},
   "outputs": [],
   "source": [
    "#checking json file\n",
    "with open('Business_ids.json') as f:\n",
    "    data2 = json.load(f)\n"
   ]
  },
  {
   "cell_type": "code",
   "execution_count": 45,
   "metadata": {},
   "outputs": [],
   "source": [
    "#checking dataframe works\n",
    "busids = pd.read_json('Business_ids.json',lines=True,orient='index')\n",
    "biz_ids = pd.DataFrame(busids)"
   ]
  }
 ],
 "metadata": {
  "kernelspec": {
   "display_name": "Python 3",
   "language": "python",
   "name": "python3"
  },
  "language_info": {
   "codemirror_mode": {
    "name": "ipython",
    "version": 3
   },
   "file_extension": ".py",
   "mimetype": "text/x-python",
   "name": "python",
   "nbconvert_exporter": "python",
   "pygments_lexer": "ipython3",
   "version": "3.7.0"
  }
 },
 "nbformat": 4,
 "nbformat_minor": 2
}
